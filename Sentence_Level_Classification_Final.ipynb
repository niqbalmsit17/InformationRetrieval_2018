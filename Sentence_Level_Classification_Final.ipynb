{
 "cells": [
  {
   "cell_type": "markdown",
   "metadata": {},
   "source": [
    "# Sentence Level Classification using Naive Bayes Classifier "
   ]
  },
  {
   "cell_type": "code",
   "execution_count": 1,
   "metadata": {},
   "outputs": [
    {
     "name": "stdout",
     "output_type": "stream",
     "text": [
      "[nltk_data] Downloading package punkt to\n",
      "[nltk_data]     /Users/naveediqbal/nltk_data...\n",
      "[nltk_data]   Package punkt is already up-to-date!\n",
      "[nltk_data] Downloading package stopwords to\n",
      "[nltk_data]     /Users/naveediqbal/nltk_data...\n",
      "[nltk_data]   Package stopwords is already up-to-date!\n"
     ]
    },
    {
     "data": {
      "text/plain": [
       "True"
      ]
     },
     "execution_count": 1,
     "metadata": {},
     "output_type": "execute_result"
    }
   ],
   "source": [
    "# importing the required libraries\n",
    "\n",
    "import numpy as np\n",
    "import collections\n",
    "import sys\n",
    "import csv\n",
    "import os\n",
    "from os import listdir\n",
    "import nltk.data\n",
    "from nltk.tokenize import LineTokenizer\n",
    "from nltk.corpus import stopwords \n",
    "from __future__ import division\n",
    "\n",
    "nltk.download('punkt')\n",
    "nltk.download('stopwords')"
   ]
  },
  {
   "cell_type": "code",
   "execution_count": 14,
   "metadata": {},
   "outputs": [],
   "source": [
    "# defining a function to extract and tokenize individual sentences from the corpus\n",
    "\n",
    "def tokenize_sentences(Directory):\n",
    "    label = {}\n",
    "    sentence = {}\n",
    "    normalized_sentence = {}\n",
    "    features = {}\n",
    "    global train\n",
    "    k = 0\n",
    "    for filename in listdir(Directory):          #Reading each file from the corpus\n",
    "        if filename.endswith(\".txt\"):\n",
    "            f = open(filename,'r')\n",
    "            data = f.read()\n",
    "            i = 0;\n",
    "            while data is not None:\n",
    "                train = LineTokenizer(blanklines = 'discard').tokenize(data)  #tokenizing the text files\n",
    "                try:\n",
    "                    # preparing the training dataset with the extracted sentences and the corresponding labels\n",
    "                    strM = str(train[i][:4])\n",
    "                    strM = strM.upper()\n",
    "                    #print(train[i][5:][0:])\n",
    "                    if any(c in strM for c in ('MISC','OWNX','BASE','CONT','AIMX')):\n",
    "                        #print(\"I am in \")\n",
    "                        label[k] = train[i][:4]\n",
    "                        sentence[k] = train[i][5:][0:]\n",
    "                        # removing the stopwords from the sentences using the stopwords list of nltk library\n",
    "                        normalized_sentence[k] = ' '.join([w for w in re.split('\\W',sentence[k]) if w.lower() not in stopwords.words('english') and w.lower() != ''])\n",
    "                        #print(type(label[k]))\n",
    "                except IndexError:\n",
    "                    #print(IndexError)\n",
    "                    break \n",
    "                i += 1\n",
    "                k += 1\n",
    "                \n",
    "    label_list = []\n",
    "    normalized_sentence_list = []\n",
    "    \n",
    "    for i in label:\n",
    "        label_list.append(label[i])\n",
    "        normalized_sentence_list.append(normalized_sentence[i])\n",
    "    \n",
    "    return label_list, normalized_sentence_list"
   ]
  },
  {
   "cell_type": "code",
   "execution_count": 51,
   "metadata": {},
   "outputs": [],
   "source": [
    "# Setting the Directory for the corpus# Settin\n",
    "\n",
    "Directory = \"/Users/naveediqbal/Documents/Jupiter_Python/Information Retrieval/Sentence Classification/SentenceCorpus/labeled_articles\"\n",
    "# Setting the tokenizer\n",
    "tokenizer = nltk.data.load('tokenizers/punkt/english.pickle')\n",
    "os.chdir(r'/Users/naveediqbal/Documents/Jupiter_Python/Information Retrieval/Sentence Classification/SentenceCorpus/labeled_articles')\n",
    "# A call to the pre-defined function to tokenize the sentences\n",
    "label, normalized_sentence = tokenize_sentences(Directory)"
   ]
  },
  {
   "cell_type": "code",
   "execution_count": 60,
   "metadata": {},
   "outputs": [],
   "source": [
    "from sklearn.feature_extraction.text import CountVectorizer\n",
    "\n",
    "vectorizer = CountVectorizer()\n",
    "\n",
    "corpus_train_x = normalized_sentence\n",
    "mDataset = vectorizer.fit_transform(corpus_train_x)"
   ]
  },
  {
   "cell_type": "code",
   "execution_count": 61,
   "metadata": {},
   "outputs": [],
   "source": [
    "from sklearn.model_selection import train_test_split\n",
    "\n",
    "X_train, X_test, y_train, y_test = train_test_split(mDataset, label, test_size=0.20, random_state=0)"
   ]
  },
  {
   "cell_type": "code",
   "execution_count": 64,
   "metadata": {},
   "outputs": [
    {
     "name": "stdout",
     "output_type": "stream",
     "text": [
      "(2493, 3902)\n",
      "(624, 3902)\n"
     ]
    }
   ],
   "source": [
    "print(X_train.shape)\n",
    "print(X_test.shape)"
   ]
  },
  {
   "cell_type": "markdown",
   "metadata": {},
   "source": [
    "# Naive Bayes Classifier"
   ]
  },
  {
   "cell_type": "code",
   "execution_count": 67,
   "metadata": {},
   "outputs": [],
   "source": [
    "from sklearn.naive_bayes import MultinomialNB\n",
    "\n",
    "clf = MultinomialNB().fit(X_train, y_train)"
   ]
  },
  {
   "cell_type": "code",
   "execution_count": 69,
   "metadata": {},
   "outputs": [],
   "source": [
    "predicted = clf.predict(X_test)"
   ]
  },
  {
   "cell_type": "code",
   "execution_count": 77,
   "metadata": {},
   "outputs": [],
   "source": [
    "classes = set(label)"
   ]
  },
  {
   "cell_type": "code",
   "execution_count": 90,
   "metadata": {},
   "outputs": [],
   "source": [
    "def plot_confusion_matrix(cm,class_,title='Confusion matrix',cmap=plt.cm.Blues):\n",
    "    \"\"\"\n",
    "    This function plots a confusion matrix\n",
    "    \"\"\"\n",
    "    fig, ax = plt.subplots(figsize=(5, 5))\n",
    "    plt.imshow(cm, interpolation='nearest', cmap=cmap)\n",
    "    plt.title(title)\n",
    "    tick_marks = np.arange(len(class_))\n",
    "    plt.xticks(tick_marks, class_, rotation=90)\n",
    "    plt.yticks(tick_marks, class_)\n",
    "\n",
    "    fmt = 'd'\n",
    "    thresh = cm.max() / 2.\n",
    "    for i, j in itertools.product(range(cm.shape[0]), range(cm.shape[1])):\n",
    "        plt.text(j, i, format(cm[i, j], fmt),\n",
    "                 horizontalalignment=\"center\",\n",
    "                 color=\"white\" if cm[i, j] > thresh else \"black\")\n",
    "\n",
    "    plt.ylabel('True labels')\n",
    "    plt.xlabel('Predicted labels')\n",
    "    plt.show()"
   ]
  },
  {
   "cell_type": "code",
   "execution_count": 93,
   "metadata": {},
   "outputs": [
    {
     "data": {
      "image/png": "[encoded data removed]",
      "text/plain": [
       "<Figure size 360x360 with 1 Axes>"
      ]
     },
     "metadata": {},
     "output_type": "display_data"
    }
   ],
   "source": [
    "import matplotlib.pyplot as plt\n",
    "from sklearn.metrics import confusion_matrix\n",
    "import seaborn as sns\n",
    "\n",
    "import itertools\n",
    "\n",
    "plot_confusion_matrix(confusion_matrix(y_test, predicted), classes)"
   ]
  },
  {
   "cell_type": "code",
   "execution_count": 73,
   "metadata": {},
   "outputs": [
    {
     "name": "stdout",
     "output_type": "stream",
     "text": [
      "Accuracy Rate, which is calculated by accuracy_score() is: 0.804487\n"
     ]
    }
   ],
   "source": [
    "from sklearn.metrics import accuracy_score\n",
    "\n",
    "print (\"Accuracy Rate, which is calculated by accuracy_score() is: %f\" % accuracy_score(y_test, predicted))"
   ]
  },
  {
   "cell_type": "markdown",
   "metadata": {},
   "source": [
    "# K Nearest Neighbor Classifier"
   ]
  },
  {
   "cell_type": "code",
   "execution_count": 85,
   "metadata": {},
   "outputs": [
    {
     "name": "stdout",
     "output_type": "stream",
     "text": [
      "k=1, accuracy=84.29%\n",
      "k=3, accuracy=84.78%\n",
      "k=5, accuracy=84.94%\n",
      "k=7, accuracy=85.42%\n",
      "k=9, accuracy=84.94%\n",
      "k=11, accuracy=85.74%\n",
      "k=13, accuracy=85.74%\n",
      "k=15, accuracy=85.74%\n"
     ]
    }
   ],
   "source": [
    "from sklearn.neighbors import KNeighborsClassifier\n",
    "\n",
    "for k in range(1, 16, 2):\n",
    "    model = KNeighborsClassifier(n_neighbors=k, weights='distance')\n",
    "\n",
    "    model.fit(X_train, y_train)\n",
    " \n",
    "    # evaluate the model and update the accuracies list\n",
    "    score = model.score(X_test, y_test)\n",
    "    print(\"k=%d, accuracy=%.2f%%\" % (k, score * 100))"
   ]
  },
  {
   "cell_type": "code",
   "execution_count": 87,
   "metadata": {},
   "outputs": [
    {
     "name": "stdout",
     "output_type": "stream",
     "text": [
      "EVALUATION ON TESTING DATA\n",
      "             precision    recall  f1-score   support\n",
      "\n",
      "       AIMX       0.64      0.19      0.29        37\n",
      "       BASE       0.00      0.00      0.00         9\n",
      "       CONT       0.33      0.06      0.11        31\n",
      "       MISC       0.83      0.70      0.76       380\n",
      "       OWNX       0.48      0.82      0.61       167\n",
      "\n",
      "avg / total       0.69      0.66      0.65       624\n",
      "\n"
     ]
    }
   ],
   "source": [
    "from sklearn.metrics import classification_report\n",
    "\n",
    "# re-train our classifier using the best k value and predict the labels of the\n",
    "# test data\n",
    "model = KNeighborsClassifier(n_neighbors=7)\n",
    "model.fit(X_train, y_train)\n",
    "predictions = model.predict(X_test)\n",
    " \n",
    "# show a final classification report demonstrating the accuracy of the classifier\n",
    "# for each of the digits\n",
    "print(\"EVALUATION ON TESTING DATA\")\n",
    "print(classification_report(y_test, predictions))"
   ]
  },
  {
   "cell_type": "code",
   "execution_count": 94,
   "metadata": {},
   "outputs": [
    {
     "data": {
      "image/png": "[encoded data removed]",
      "text/plain": [
       "<Figure size 360x360 with 1 Axes>"
      ]
     },
     "metadata": {},
     "output_type": "display_data"
    }
   ],
   "source": [
    "plot_confusion_matrix(confusion_matrix(y_test, predictions), classes)"
   ]
  },
  {
   "cell_type": "markdown",
   "metadata": {},
   "source": [
    "# Rocchio Algorithm"
   ]
  },
  {
   "cell_type": "code",
   "execution_count": 96,
   "metadata": {},
   "outputs": [
    {
     "name": "stdout",
     "output_type": "stream",
     "text": [
      "accuracy=49.84%\n"
     ]
    }
   ],
   "source": [
    "from sklearn.neighbors.nearest_centroid import NearestCentroid\n",
    "\n",
    "\n",
    "model = NearestCentroid(metric='euclidean')\n",
    "\n",
    "model.fit(X_train, y_train)\n",
    " \n",
    "# evaluate the model and update the accuracies list\n",
    "score = model.score(X_test, y_test)\n",
    "print(\"accuracy=%.2f%%\" % (score * 100))"
   ]
  },
  {
   "cell_type": "code",
   "execution_count": 97,
   "metadata": {},
   "outputs": [
    {
     "name": "stdout",
     "output_type": "stream",
     "text": [
      "EVALUATION ON TESTING DATA\n",
      "             precision    recall  f1-score   support\n",
      "\n",
      "       AIMX       0.59      0.62      0.61        37\n",
      "       BASE       0.28      0.56      0.37         9\n",
      "       CONT       0.48      0.35      0.41        31\n",
      "       MISC       0.90      0.33      0.48       380\n",
      "       OWNX       0.36      0.88      0.51       167\n",
      "\n",
      "avg / total       0.71      0.50      0.49       624\n",
      "\n"
     ]
    }
   ],
   "source": [
    "predictions = model.predict(X_test)\n",
    " \n",
    "# show a final classification report demonstrating the accuracy of the classifier\n",
    "# for each of the digits\n",
    "print(\"EVALUATION ON TESTING DATA\")\n",
    "print(classification_report(y_test, predictions))"
   ]
  },
  {
   "cell_type": "code",
   "execution_count": 98,
   "metadata": {},
   "outputs": [
    {
     "data": {
      "image/png": "[encoded data removed]",
      "text/plain": [
       "<Figure size 360x360 with 1 Axes>"
      ]
     },
     "metadata": {},
     "output_type": "display_data"
    }
   ],
   "source": [
    "plot_confusion_matrix(confusion_matrix(y_test, predictions), classes)"
   ]
  },
  {
   "cell_type": "code",
   "execution_count": 71,
   "metadata": {},
   "outputs": [],
   "source": [
    "# Classifying unknown sentences and writing the results to a CSV file\n",
    "\n",
    "Directory = '/Users/naveediqbal/Documents/Jupiter_Python/Information Retrieval/Sentence Classification/SentenceCorpus/unlabeled_articles/unknown_sample/'\n",
    "os.chdir(r'/Users/naveediqbal/Documents/Jupiter_Python/Information Retrieval/Sentence Classification/SentenceCorpus/unlabeled_articles/unknown_sample/')\n",
    "with open('classified_sentences.csv','wb') as csvfile:\n",
    "    fieldnames = ['Sentence', 'Label']\n",
    "    writer = csv.DictWriter(csvfile,fieldnames = fieldnames)\n",
    "    writer.writeheader()\n",
    "    for filename in listdir(Directory):\n",
    "        if filename.endswith(\".txt\"):\n",
    "            f = open(filename, 'rb')\n",
    "            data = f.readlines()\n",
    "            for sentence in data:\n",
    "                if not(sentence.startswith('###')):\n",
    "                    # removing the stopwords from the sentences using the stopwords list of nltk library\n",
    "                    normalized_sentence = ' '.join([w for w in re.split('\\W',sentence) if w.lower() not in stopwords.words('english')])\n",
    "                    # Classifying the individual sentences\n",
    "                    blob = TextBlob(normalized_sentence, classifier = C)\n",
    "                    # Writing the sentences along with their classified label to the CSV file\n",
    "                    writer.writerow({'Sentence': sentence, 'Label': blob.classify()})\n",
    "csvfile.close()"
   ]
  }
 ],
 "metadata": {
  "kernelspec": {
   "display_name": "Python 3",
   "language": "python",
   "name": "python3"
  },
  "language_info": {
   "codemirror_mode": {
    "name": "ipython",
    "version": 3
   },
   "file_extension": ".py",
   "mimetype": "text/x-python",
   "name": "python",
   "nbconvert_exporter": "python",
   "pygments_lexer": "ipython3",
   "version": "3.5.5"
  }
 },
 "nbformat": 4,
 "nbformat_minor": 1
}
